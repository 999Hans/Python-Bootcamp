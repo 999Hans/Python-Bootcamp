{
 "cells": [
  {
   "cell_type": "code",
   "execution_count": 1,
   "metadata": {},
   "outputs": [
    {
     "name": "stdout",
     "output_type": "stream",
     "text": [
      "Welcome to Tic Tac Toe!\n",
      "Player 1: Do you want to be X or O?X\n",
      "Player 1 will go first\n",
      "Are you ready to play? Enter Yes or No.Yes\n"
     ]
    }
   ],
   "source": [
    "print(\"Welcome to Tic Tac Toe!\")\n",
    "player1 = input(\"Player 1: Do you want to be X or O?\")\n",
    "print(\"Player 1 will go first\")\n",
    "ready = input(\"Are you ready to play? Enter Yes or No.\")"
   ]
  },
  {
   "cell_type": "code",
   "execution_count": null,
   "metadata": {},
   "outputs": [],
   "source": [
    "num1 = \" \"\n",
    "num2 = \" \"\n",
    "num3 = \" \"\n",
    "num4 = \" \"\n",
    "num5 = \" \"\n",
    "num6 = \" \"\n",
    "num7 = \" \"\n",
    "num8 = \" \"\n",
    "num9 = \" \"\n",
    "\n",
    "def dashboard():\n",
    "    print(num7 + \"|\" + num8 + \"|\" + num9)\n",
    "    print(\"-----\")\n",
    "    print(num4 + \"|\" + num5 + \"|\" + num6)\n",
    "    print(\"-----\")\n",
    "    print(num1 + \"|\" + num2 + \"|\" + num3)"
   ]
  },
  {
   "cell_type": "code",
   "execution_count": null,
   "metadata": {},
   "outputs": [],
   "source": [
    "if ready == \"Yes\":\n",
    "    dashboard()\n",
    "position = int(input(\"Please enter a number\"))"
   ]
  },
  {
   "cell_type": "code",
   "execution_count": null,
   "metadata": {},
   "outputs": [],
   "source": []
  }
 ],
 "metadata": {
  "kernelspec": {
   "display_name": "Python 3",
   "language": "python",
   "name": "python3"
  },
  "language_info": {
   "codemirror_mode": {
    "name": "ipython",
    "version": 3
   },
   "file_extension": ".py",
   "mimetype": "text/x-python",
   "name": "python",
   "nbconvert_exporter": "python",
   "pygments_lexer": "ipython3",
   "version": "3.7.6"
  }
 },
 "nbformat": 4,
 "nbformat_minor": 4
}
