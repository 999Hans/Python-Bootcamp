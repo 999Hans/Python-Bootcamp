{
 "cells": [
  {
   "cell_type": "code",
   "execution_count": 7,
   "metadata": {},
   "outputs": [
    {
     "output_type": "stream",
     "name": "stdout",
     "text": "Welcome to Tic Tac Toe!\nPlayer 1 will go first\n"
    }
   ],
   "source": [
    "print(\"Welcome to Tic Tac Toe!\")\n",
    "player1 = input(\"Player 1: Do you want to be X or O?\")\n",
    "print(\"Player 1 will go first\")\n",
    "ready = input(\"Are you ready to play? Enter Yes or No.\")"
   ]
  },
  {
   "cell_type": "code",
   "execution_count": 14,
   "metadata": {},
   "outputs": [],
   "source": [
    "numlist= [\" \", \" \", \" \",\" \",\" \",\" \",\" \",\" \",\" \", \" \"]\n",
    "\n",
    "def dashboard():\n",
    "    print(numlist[7] + \"|\" + numlist[8] + \"|\" + numlist[9])\n",
    "    print(\"-----\")\n",
    "    print(numlist[4] + \"|\" + numlist[5] + \"|\" + numlist[6])\n",
    "    print(\"-----\")\n",
    "    print(numlist[1] + \"|\" + numlist[2] + \"|\" + numlist[3])\n",
    "\n",
    "if player1 == \"X\":\n",
    "    rule = [\"#\", X\", \"O\", \"X\", \"O\", \"X\", \"O\", \"X\", \"O\", \"X\"]\n",
    "elif player1 == \"O\":\n",
    "    rule = [\"#\", \"O\", \"X\", \"O\", \"X\", \"O\", \"X\", \"O\", \"X\", \"O\"]"
   ]
  },
  {
   "cell_type": "code",
   "execution_count": 15,
   "metadata": {},
   "outputs": [
    {
     "output_type": "stream",
     "name": "stdout",
     "text": "| | \n-----\n | | \n-----\n | | \n"
    }
   ],
   "source": [
    "if ready == \"Yes\":\n",
    "    dashboard()"
   ]
  },
  {
   "cell_type": "code",
   "execution_count": null,
   "metadata": {},
   "outputs": [],
   "source": [
    " for i in range(1, 10):\n",
    "      position = int(input(\"Choose your next postion: (1-9)\"))\n",
    "      numlist[i] = \n",
    "\n",
    " \n"
   ]
  }
 ],
 "metadata": {
  "kernelspec": {
   "display_name": "Python 3",
   "language": "python",
   "name": "python3"
  },
  "language_info": {
   "codemirror_mode": {
    "name": "ipython",
    "version": 3
   },
   "file_extension": ".py",
   "mimetype": "text/x-python",
   "name": "python",
   "nbconvert_exporter": "python",
   "pygments_lexer": "ipython3",
   "version": "3.7.6-final"
  }
 },
 "nbformat": 4,
 "nbformat_minor": 4
}